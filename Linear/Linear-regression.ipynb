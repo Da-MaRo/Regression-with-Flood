{
 "cells": [
  {
   "cell_type": "code",
   "execution_count": null,
   "metadata": {},
   "outputs": [],
   "source": [
    "# load data from test and train csv files\n",
    "\n",
    "import pandas as pd\n",
    "import numpy as np\n",
    "import os\n",
    "import seaborn as sns\n",
    "import matplotlib.pyplot as plt\n",
    "from sklearn.linear_model import LinearRegression\n"
   ]
  },
  {
   "cell_type": "code",
   "execution_count": null,
   "metadata": {},
   "outputs": [],
   "source": [
    "# Load data\n",
    "def load_data():\n",
    "    train = pd.read_csv('playground-series-s4e5/train.csv')\n",
    "    test = pd.read_csv('playground-series-s4e5/test.csv')\n",
    "    return train, test"
   ]
  },
  {
   "cell_type": "code",
   "execution_count": null,
   "metadata": {},
   "outputs": [],
   "source": [
    "def main():\n",
    "    train, test = load_data()\n",
    "    X_train = train.drop('FloodProbability', axis=1)\n",
    "    y_train = train['FloodProbability']\n",
    "    X_test = test.drop('FloodProbability', axis=1, errors='ignore')\n",
    "    \n",
    "    model = train_model(X_train, y_train)\n",
    "    predictions = make_predictions(model, X_test)\n",
    "    print(predictions)\n",
    "\n",
    "if __name__ == '__main__':\n",
    "    main()"
   ]
  },
  {
   "cell_type": "code",
   "execution_count": null,
   "metadata": {},
   "outputs": [],
   "source": [
    "ids = test['id']\n",
    "predictions = make_predictions(model, test)\n",
    "# Combine ids and predictions into a structured array\n",
    "combined_data = np.array(list(zip(ids, predictions)), dtype=[('id', int), ('FloodProbability', float)])\n",
    "\n",
    "# Define the header\n",
    "header = 'id,FloodProbability'\n",
    "\n",
    "# Save to CSV with header\n",
    "np.savetxt('submission.csv', combined_data, delimiter=',', header=header, fmt='%d,%.2f', comments='')\n"
   ]
  }
 ],
 "metadata": {
  "kernelspec": {
   "display_name": "Python 3",
   "language": "python",
   "name": "python3"
  },
  "language_info": {
   "codemirror_mode": {
    "name": "ipython",
    "version": 3
   },
   "file_extension": ".py",
   "mimetype": "text/x-python",
   "name": "python",
   "nbconvert_exporter": "python",
   "pygments_lexer": "ipython3",
   "version": "3.11.0"
  }
 },
 "nbformat": 4,
 "nbformat_minor": 2
}
